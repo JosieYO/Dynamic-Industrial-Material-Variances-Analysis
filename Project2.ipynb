{
 "cells": [
  {
   "cell_type": "code",
   "execution_count": 2,
   "metadata": {},
   "outputs": [],
   "source": [
    "import pandas as pd"
   ]
  },
  {
   "cell_type": "code",
   "execution_count": 3,
   "metadata": {},
   "outputs": [],
   "source": [
    "df=pd.ExcelFile('Dynamic Industrial Data.xlsx')\n",
    "df_payable=pd.read_excel(df,'Accounts Payable Summary')\n",
    "df_purchase=pd.read_excel(df,'Purchasing Information')"
   ]
  },
  {
   "cell_type": "code",
   "execution_count": 4,
   "metadata": {},
   "outputs": [
    {
     "data": {
      "text/html": [
       "<div>\n",
       "<style scoped>\n",
       "    .dataframe tbody tr th:only-of-type {\n",
       "        vertical-align: middle;\n",
       "    }\n",
       "\n",
       "    .dataframe tbody tr th {\n",
       "        vertical-align: top;\n",
       "    }\n",
       "\n",
       "    .dataframe thead th {\n",
       "        text-align: right;\n",
       "    }\n",
       "</style>\n",
       "<table border=\"1\" class=\"dataframe\">\n",
       "  <thead>\n",
       "    <tr style=\"text-align: right;\">\n",
       "      <th></th>\n",
       "      <th>Invoice</th>\n",
       "      <th>Received</th>\n",
       "      <th>Vendor</th>\n",
       "      <th>SKU</th>\n",
       "      <th>Purchase order</th>\n",
       "      <th>Total Price</th>\n",
       "      <th>Paid</th>\n",
       "    </tr>\n",
       "  </thead>\n",
       "  <tbody>\n",
       "    <tr>\n",
       "      <td>0</td>\n",
       "      <td>1000587</td>\n",
       "      <td>2017-12-08</td>\n",
       "      <td>Technical Innovations</td>\n",
       "      <td>825608</td>\n",
       "      <td>5399</td>\n",
       "      <td>3132.5</td>\n",
       "      <td>Yes</td>\n",
       "    </tr>\n",
       "    <tr>\n",
       "      <td>1</td>\n",
       "      <td>10056</td>\n",
       "      <td>2017-12-09</td>\n",
       "      <td>Alpha</td>\n",
       "      <td>100525</td>\n",
       "      <td>5400</td>\n",
       "      <td>645.0</td>\n",
       "      <td>Yes</td>\n",
       "    </tr>\n",
       "    <tr>\n",
       "      <td>2</td>\n",
       "      <td>10056</td>\n",
       "      <td>2017-12-09</td>\n",
       "      <td>Alpha</td>\n",
       "      <td>101652</td>\n",
       "      <td>5400</td>\n",
       "      <td>1500.0</td>\n",
       "      <td>Yes</td>\n",
       "    </tr>\n",
       "    <tr>\n",
       "      <td>3</td>\n",
       "      <td>10056</td>\n",
       "      <td>2017-12-09</td>\n",
       "      <td>Alpha</td>\n",
       "      <td>108900</td>\n",
       "      <td>5400</td>\n",
       "      <td>8350.0</td>\n",
       "      <td>Yes</td>\n",
       "    </tr>\n",
       "    <tr>\n",
       "      <td>4</td>\n",
       "      <td>10056</td>\n",
       "      <td>2017-12-09</td>\n",
       "      <td>Alpha</td>\n",
       "      <td>110852</td>\n",
       "      <td>5400</td>\n",
       "      <td>1725.0</td>\n",
       "      <td>Yes</td>\n",
       "    </tr>\n",
       "  </tbody>\n",
       "</table>\n",
       "</div>"
      ],
      "text/plain": [
       "   Invoice   Received                 Vendor     SKU  Purchase order  \\\n",
       "0  1000587 2017-12-08  Technical Innovations  825608            5399   \n",
       "1    10056 2017-12-09                  Alpha  100525            5400   \n",
       "2    10056 2017-12-09                  Alpha  101652            5400   \n",
       "3    10056 2017-12-09                  Alpha  108900            5400   \n",
       "4    10056 2017-12-09                  Alpha  110852            5400   \n",
       "\n",
       "   Total Price Paid  \n",
       "0       3132.5  Yes  \n",
       "1        645.0  Yes  \n",
       "2       1500.0  Yes  \n",
       "3       8350.0  Yes  \n",
       "4       1725.0  Yes  "
      ]
     },
     "execution_count": 4,
     "metadata": {},
     "output_type": "execute_result"
    }
   ],
   "source": [
    "df_payable.head()"
   ]
  },
  {
   "cell_type": "code",
   "execution_count": 5,
   "metadata": {},
   "outputs": [
    {
     "data": {
      "text/html": [
       "<div>\n",
       "<style scoped>\n",
       "    .dataframe tbody tr th:only-of-type {\n",
       "        vertical-align: middle;\n",
       "    }\n",
       "\n",
       "    .dataframe tbody tr th {\n",
       "        vertical-align: top;\n",
       "    }\n",
       "\n",
       "    .dataframe thead th {\n",
       "        text-align: right;\n",
       "    }\n",
       "</style>\n",
       "<table border=\"1\" class=\"dataframe\">\n",
       "  <thead>\n",
       "    <tr style=\"text-align: right;\">\n",
       "      <th></th>\n",
       "      <th>Purchase order</th>\n",
       "      <th>PO Date</th>\n",
       "      <th>Purchasing Agent</th>\n",
       "      <th>Vendor</th>\n",
       "      <th>SKU</th>\n",
       "      <th>Quantity</th>\n",
       "    </tr>\n",
       "  </thead>\n",
       "  <tbody>\n",
       "    <tr>\n",
       "      <td>0</td>\n",
       "      <td>5399</td>\n",
       "      <td>2017-12-04</td>\n",
       "      <td>Alex</td>\n",
       "      <td>Technical Innovations</td>\n",
       "      <td>825608</td>\n",
       "      <td>1750</td>\n",
       "    </tr>\n",
       "    <tr>\n",
       "      <td>1</td>\n",
       "      <td>5400</td>\n",
       "      <td>2017-12-05</td>\n",
       "      <td>Chris</td>\n",
       "      <td>Alpha</td>\n",
       "      <td>100525</td>\n",
       "      <td>500</td>\n",
       "    </tr>\n",
       "    <tr>\n",
       "      <td>2</td>\n",
       "      <td>5400</td>\n",
       "      <td>2017-12-05</td>\n",
       "      <td>Chris</td>\n",
       "      <td>Alpha</td>\n",
       "      <td>101652</td>\n",
       "      <td>1000</td>\n",
       "    </tr>\n",
       "    <tr>\n",
       "      <td>3</td>\n",
       "      <td>5400</td>\n",
       "      <td>2017-12-05</td>\n",
       "      <td>Chris</td>\n",
       "      <td>Alpha</td>\n",
       "      <td>108900</td>\n",
       "      <td>5000</td>\n",
       "    </tr>\n",
       "    <tr>\n",
       "      <td>4</td>\n",
       "      <td>5400</td>\n",
       "      <td>2017-12-05</td>\n",
       "      <td>Chris</td>\n",
       "      <td>Alpha</td>\n",
       "      <td>110852</td>\n",
       "      <td>1500</td>\n",
       "    </tr>\n",
       "  </tbody>\n",
       "</table>\n",
       "</div>"
      ],
      "text/plain": [
       "   Purchase order    PO Date Purchasing Agent                 Vendor     SKU  \\\n",
       "0            5399 2017-12-04             Alex  Technical Innovations  825608   \n",
       "1            5400 2017-12-05            Chris                  Alpha  100525   \n",
       "2            5400 2017-12-05            Chris                  Alpha  101652   \n",
       "3            5400 2017-12-05            Chris                  Alpha  108900   \n",
       "4            5400 2017-12-05            Chris                  Alpha  110852   \n",
       "\n",
       "   Quantity  \n",
       "0      1750  \n",
       "1       500  \n",
       "2      1000  \n",
       "3      5000  \n",
       "4      1500  "
      ]
     },
     "execution_count": 5,
     "metadata": {},
     "output_type": "execute_result"
    }
   ],
   "source": [
    "df_purchase.head()"
   ]
  },
  {
   "cell_type": "code",
   "execution_count": 6,
   "metadata": {},
   "outputs": [],
   "source": [
    "df_payable18=df_payable[df_payable['Received']>'2018-01-01']"
   ]
  },
  {
   "cell_type": "code",
   "execution_count": 7,
   "metadata": {},
   "outputs": [],
   "source": [
    "new_df=pd.merge(df_payable18,df_purchase,how='inner',left_on=['SKU','Purchase order'],right_on=['SKU','Purchase order'])"
   ]
  },
  {
   "cell_type": "code",
   "execution_count": 8,
   "metadata": {},
   "outputs": [
    {
     "data": {
      "text/html": [
       "<div>\n",
       "<style scoped>\n",
       "    .dataframe tbody tr th:only-of-type {\n",
       "        vertical-align: middle;\n",
       "    }\n",
       "\n",
       "    .dataframe tbody tr th {\n",
       "        vertical-align: top;\n",
       "    }\n",
       "\n",
       "    .dataframe thead th {\n",
       "        text-align: right;\n",
       "    }\n",
       "</style>\n",
       "<table border=\"1\" class=\"dataframe\">\n",
       "  <thead>\n",
       "    <tr style=\"text-align: right;\">\n",
       "      <th></th>\n",
       "      <th>Invoice</th>\n",
       "      <th>Received</th>\n",
       "      <th>Vendor_x</th>\n",
       "      <th>SKU</th>\n",
       "      <th>Purchase order</th>\n",
       "      <th>Total Price</th>\n",
       "      <th>Paid</th>\n",
       "      <th>PO Date</th>\n",
       "      <th>Purchasing Agent</th>\n",
       "      <th>Vendor_y</th>\n",
       "      <th>Quantity</th>\n",
       "    </tr>\n",
       "  </thead>\n",
       "  <tbody>\n",
       "    <tr>\n",
       "      <td>0</td>\n",
       "      <td>10078</td>\n",
       "      <td>2018-01-03</td>\n",
       "      <td>Alpha</td>\n",
       "      <td>100525</td>\n",
       "      <td>5405</td>\n",
       "      <td>645.0</td>\n",
       "      <td>Yes</td>\n",
       "      <td>2017-12-28</td>\n",
       "      <td>Chris</td>\n",
       "      <td>Alpha</td>\n",
       "      <td>500</td>\n",
       "    </tr>\n",
       "    <tr>\n",
       "      <td>1</td>\n",
       "      <td>10078</td>\n",
       "      <td>2018-01-03</td>\n",
       "      <td>Alpha</td>\n",
       "      <td>101652</td>\n",
       "      <td>5405</td>\n",
       "      <td>300.0</td>\n",
       "      <td>Yes</td>\n",
       "      <td>2017-12-28</td>\n",
       "      <td>Chris</td>\n",
       "      <td>Alpha</td>\n",
       "      <td>200</td>\n",
       "    </tr>\n",
       "    <tr>\n",
       "      <td>2</td>\n",
       "      <td>10078</td>\n",
       "      <td>2018-01-03</td>\n",
       "      <td>Alpha</td>\n",
       "      <td>108900</td>\n",
       "      <td>5405</td>\n",
       "      <td>175.0</td>\n",
       "      <td>Yes</td>\n",
       "      <td>2017-12-28</td>\n",
       "      <td>Chris</td>\n",
       "      <td>Alpha</td>\n",
       "      <td>100</td>\n",
       "    </tr>\n",
       "    <tr>\n",
       "      <td>3</td>\n",
       "      <td>10078</td>\n",
       "      <td>2018-01-03</td>\n",
       "      <td>Alpha</td>\n",
       "      <td>119561</td>\n",
       "      <td>5405</td>\n",
       "      <td>180.0</td>\n",
       "      <td>Yes</td>\n",
       "      <td>2017-12-28</td>\n",
       "      <td>Chris</td>\n",
       "      <td>Alpha</td>\n",
       "      <td>100</td>\n",
       "    </tr>\n",
       "    <tr>\n",
       "      <td>4</td>\n",
       "      <td>1000613</td>\n",
       "      <td>2018-01-07</td>\n",
       "      <td>Technical Innovations</td>\n",
       "      <td>825608</td>\n",
       "      <td>5406</td>\n",
       "      <td>8950.0</td>\n",
       "      <td>Yes</td>\n",
       "      <td>2018-01-03</td>\n",
       "      <td>Alex</td>\n",
       "      <td>Technical Innovations</td>\n",
       "      <td>5000</td>\n",
       "    </tr>\n",
       "  </tbody>\n",
       "</table>\n",
       "</div>"
      ],
      "text/plain": [
       "   Invoice   Received               Vendor_x     SKU  Purchase order  \\\n",
       "0    10078 2018-01-03                  Alpha  100525            5405   \n",
       "1    10078 2018-01-03                  Alpha  101652            5405   \n",
       "2    10078 2018-01-03                  Alpha  108900            5405   \n",
       "3    10078 2018-01-03                  Alpha  119561            5405   \n",
       "4  1000613 2018-01-07  Technical Innovations  825608            5406   \n",
       "\n",
       "   Total Price Paid    PO Date Purchasing Agent               Vendor_y  \\\n",
       "0        645.0  Yes 2017-12-28            Chris                  Alpha   \n",
       "1        300.0  Yes 2017-12-28            Chris                  Alpha   \n",
       "2        175.0  Yes 2017-12-28            Chris                  Alpha   \n",
       "3        180.0  Yes 2017-12-28            Chris                  Alpha   \n",
       "4       8950.0  Yes 2018-01-03             Alex  Technical Innovations   \n",
       "\n",
       "   Quantity  \n",
       "0       500  \n",
       "1       200  \n",
       "2       100  \n",
       "3       100  \n",
       "4      5000  "
      ]
     },
     "execution_count": 8,
     "metadata": {},
     "output_type": "execute_result"
    }
   ],
   "source": [
    "new_df.head()"
   ]
  },
  {
   "cell_type": "code",
   "execution_count": 9,
   "metadata": {},
   "outputs": [
    {
     "data": {
      "text/plain": [
       "SKU\n",
       "100525       5225.0\n",
       "101652       5550.0\n",
       "108900      12625.0\n",
       "110852       4575.0\n",
       "111568       2145.0\n",
       "118741      11160.0\n",
       "119561       4140.0\n",
       "202456    1128750.0\n",
       "300080       1197.6\n",
       "300082       8250.0\n",
       "300091       1558.0\n",
       "300095      10000.0\n",
       "555874       1800.0\n",
       "555902       3120.0\n",
       "555916       5992.5\n",
       "825600      46300.0\n",
       "825605      46300.0\n",
       "825608      34390.0\n",
       "Name: Total Price, dtype: float64"
      ]
     },
     "execution_count": 9,
     "metadata": {},
     "output_type": "execute_result"
    }
   ],
   "source": [
    "new_df.groupby('SKU')['Total Price'].sum()"
   ]
  },
  {
   "cell_type": "code",
   "execution_count": 10,
   "metadata": {},
   "outputs": [
    {
     "data": {
      "text/plain": [
       "SKU\n",
       "100525       5225.0\n",
       "101652       5550.0\n",
       "108900      12625.0\n",
       "110852       4575.0\n",
       "111568       2145.0\n",
       "118741      11160.0\n",
       "119561       4140.0\n",
       "202456    1128750.0\n",
       "300080       1197.6\n",
       "300082       8250.0\n",
       "300091       1558.0\n",
       "300095      10000.0\n",
       "555874       1800.0\n",
       "555902       3120.0\n",
       "555916       5992.5\n",
       "825600      46300.0\n",
       "825605      46300.0\n",
       "825608      34390.0\n",
       "Name: Total Price, dtype: float64"
      ]
     },
     "execution_count": 10,
     "metadata": {},
     "output_type": "execute_result"
    }
   ],
   "source": [
    "df_payable18.groupby('SKU')['Total Price'].sum()"
   ]
  },
  {
   "cell_type": "code",
   "execution_count": 25,
   "metadata": {},
   "outputs": [
    {
     "data": {
      "text/plain": [
       "SKU     Purchase order\n",
       "100525  5405                 500\n",
       "        5414                 500\n",
       "        5415                2000\n",
       "        5416                 500\n",
       "        5420                 500\n",
       "        5423                 500\n",
       "101652  5405                 200\n",
       "        5410                 200\n",
       "        5414                1000\n",
       "        5416                 500\n",
       "        5420                 500\n",
       "        5423                1000\n",
       "108900  5405                 100\n",
       "        5410                1000\n",
       "        5414                1000\n",
       "        5416                 200\n",
       "        5420                2500\n",
       "        5423                2500\n",
       "110852  5410                 200\n",
       "        5415                4000\n",
       "        5420                 300\n",
       "111568  5410                 500\n",
       "        5414                 500\n",
       "        5420                 500\n",
       "118741  5410                2000\n",
       "        5416                2000\n",
       "        5420                2000\n",
       "119561  5405                 100\n",
       "        5414                1000\n",
       "        5416                 200\n",
       "        5420                1000\n",
       "202456  5411               35000\n",
       "        5417               35000\n",
       "        5424               35000\n",
       "300080  5407               12000\n",
       "        5412               12000\n",
       "300082  5407               55000\n",
       "        5419               55000\n",
       "300091  5407               10000\n",
       "        5419               10000\n",
       "300095  5412              100000\n",
       "555874  5408               20000\n",
       "        5418               20000\n",
       "555902  5408               20000\n",
       "        5418               20000\n",
       "555916  5408               37500\n",
       "        5418               37500\n",
       "825600  5409                5000\n",
       "        5413                5000\n",
       "        5421                5000\n",
       "825605  5409                5000\n",
       "        5413                5000\n",
       "        5421                5000\n",
       "825608  5406                5000\n",
       "        5413               16000\n",
       "Name: Quantity, dtype: int64"
      ]
     },
     "execution_count": 25,
     "metadata": {},
     "output_type": "execute_result"
    }
   ],
   "source": [
    "new_df.groupby(['SKU','Purchase order'])['Quantity'].sum()"
   ]
  },
  {
   "cell_type": "code",
   "execution_count": null,
   "metadata": {},
   "outputs": [],
   "source": []
  },
  {
   "cell_type": "code",
   "execution_count": 26,
   "metadata": {},
   "outputs": [
    {
     "data": {
      "text/plain": [
       "SKU\n",
       "100525      4500\n",
       "101652      3400\n",
       "108900      7300\n",
       "110852      4500\n",
       "111568      1500\n",
       "118741      6000\n",
       "119561      2300\n",
       "202456    105000\n",
       "300080     24000\n",
       "300082    110000\n",
       "300091     20000\n",
       "300095    100000\n",
       "555874     40000\n",
       "555902     40000\n",
       "555916     75000\n",
       "825600     15000\n",
       "825605     15000\n",
       "825608     21000\n",
       "Name: Quantity, dtype: int64"
      ]
     },
     "execution_count": 26,
     "metadata": {},
     "output_type": "execute_result"
    }
   ],
   "source": [
    "new_df.groupby('SKU')['Quantity'].sum()"
   ]
  },
  {
   "cell_type": "code",
   "execution_count": 29,
   "metadata": {},
   "outputs": [],
   "source": [
    "dfex=new_df.groupby('SKU')['Quantity'].sum()"
   ]
  },
  {
   "cell_type": "code",
   "execution_count": 32,
   "metadata": {},
   "outputs": [],
   "source": [
    "dfex.to_excel('output1.xlsx', engine='xlsxwriter')  "
   ]
  },
  {
   "cell_type": "code",
   "execution_count": null,
   "metadata": {},
   "outputs": [],
   "source": []
  }
 ],
 "metadata": {
  "kernelspec": {
   "display_name": "Python 3",
   "language": "python",
   "name": "python3"
  },
  "language_info": {
   "codemirror_mode": {
    "name": "ipython",
    "version": 3
   },
   "file_extension": ".py",
   "mimetype": "text/x-python",
   "name": "python",
   "nbconvert_exporter": "python",
   "pygments_lexer": "ipython3",
   "version": "3.7.4"
  }
 },
 "nbformat": 4,
 "nbformat_minor": 2
}
